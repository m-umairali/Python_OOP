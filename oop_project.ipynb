{
 "cells": [
  {
   "cell_type": "code",
   "execution_count": 3,
   "metadata": {},
   "outputs": [],
   "source": [
    "# pip install nlpcloud"
   ]
  },
  {
   "cell_type": "code",
   "execution_count": 2,
   "metadata": {},
   "outputs": [],
   "source": [
    "import nlpcloud\n",
    "\n",
    "client = nlpcloud.Client(\"python-langdetect\", \"3126efa8746a8c9a683e757205437143fa015ec5\")\n",
    "client.langdetection(\"\"\"Et il parle aussi un peu français.\"\"\")"
   ]
  },
  {
   "cell_type": "code",
   "execution_count": null,
   "metadata": {},
   "outputs": [],
   "source": [
    "import nlpcloud\n",
    "\n",
    "client = nlpcloud.Client(\"distilbert-base-uncased-emotion\", \"2b58d7fb9af09e617ee525e78c7766b6d8c5bb61\", gpu=False, lang=\"en\")\n",
    "client.sentiment(\"Look what's just come on the market in #ValThorens! A recently renovated, charming 6 bed duplex apartment in the heart of the resort with superb views!\")"
   ]
  },
  {
   "cell_type": "code",
   "execution_count": null,
   "metadata": {},
   "outputs": [],
   "source": [
    "import nlpcloud\n",
    "\n",
    "client = nlpcloud.Client(\"finetuned-gpt-neox-20b\", \"2b58d7fb9af09e617ee525e78c7766b6d8c5bb61\", gpu=True, lang=\"en\")\n",
    "client.entities(\"\"\"John Doe started learning Javascript when he was 15 years old. After a couple of years he switched to Python and starter learning low level programming. He is now a Go expert at Google.\"\"\", searched_entity=\"programming languages\")"
   ]
  },
  {
   "cell_type": "code",
   "execution_count": 16,
   "metadata": {},
   "outputs": [
    {
     "name": "stdout",
     "output_type": "stream",
     "text": [
      "registration successful.Now login\n",
      "{'umairalism@gmail.com': ['umair', '123']}\n",
      "login successful\n"
     ]
    },
    {
     "ename": "",
     "evalue": "",
     "output_type": "error",
     "traceback": [
      "\u001b[1;31mThe Kernel crashed while executing code in the the current cell or a previous cell. Please review the code in the cell(s) to identify a possible cause of the failure. Click <a href='https://aka.ms/vscodeJupyterKernelCrash'>here</a> for more info. View Jupyter <a href='command:jupyter.viewOutput'>log</a> for further details."
     ]
    }
   ],
   "source": [
    "import nlpcloud\n",
    "\n",
    "class NLPApp:\n",
    "\n",
    "  def __init__(self):\n",
    "\n",
    "    self.__database = {}\n",
    "    self.__first_menu()\n",
    "\n",
    "  def __first_menu(self):\n",
    "\n",
    "    first_input = input(\"\"\"\n",
    "    Hi! how would you like to proceed?\n",
    "    1. Not a member? Register\n",
    "    2. Already a member? Login\n",
    "    3. Exit\n",
    "    \"\"\")\n",
    "\n",
    "    if first_input == '1':\n",
    "      self.__register()\n",
    "    elif first_input == '2':\n",
    "      self.__login()\n",
    "    else:\n",
    "      exit()\n",
    "\n",
    "  def __second_menu(self):\n",
    "\n",
    "    second_input = input(\"\"\"\n",
    "    Hi! how would you like to proceed?\n",
    "    1. NER\n",
    "    2. Language Detection\n",
    "    3. Sentiment Analysis\n",
    "    4. Logout\n",
    "    \"\"\")\n",
    "\n",
    "    if second_input == '1':\n",
    "      self.__ner()\n",
    "    elif second_input == '2':\n",
    "      self.__language_detection()\n",
    "    elif second_input == '3':\n",
    "      self.__sentiment_analysis()\n",
    "    else:\n",
    "      exit()\n",
    "\n",
    "  def __register(self):\n",
    "    name = input('enter name')\n",
    "    email = input('enter email')\n",
    "    password = input('enter password')\n",
    "\n",
    "    if email in self.__database:\n",
    "      print('email already exists')\n",
    "    else:\n",
    "      self.__database[email] = [name,password]\n",
    "      print('registration successful.Now login')\n",
    "      print(self.__database)\n",
    "      self.__first_menu()\n",
    "\n",
    "\n",
    "  def __login(self):\n",
    "    \n",
    "    email = input('enter email')\n",
    "    password = input('enter password')\n",
    "\n",
    "    if email in self.__database:\n",
    "      if self.__database[email][1] == password:\n",
    "        print('login successful')\n",
    "        self.__second_menu()\n",
    "      else:\n",
    "        print('wrong password.Try again')\n",
    "        self.__login()\n",
    "    else:\n",
    "      print('This email is not registered')\n",
    "      self.__first_menu()\n",
    "\n",
    "  def __sentiment_analysis(self):\n",
    "    para = input('enter the paragraph')\n",
    "\n",
    "    client = nlpcloud.Client(\"distilbert-base-uncased-emotion\", \"2b58d7fb9af09e617ee525e78c7766b6d8c5bb61\", gpu=False, lang=\"en\")\n",
    "    response = client.sentiment(para)\n",
    "\n",
    "    L = []\n",
    "    for i in response['scored_labels']:\n",
    "      L.append(i['score'])\n",
    "\n",
    "    index = sorted(list(enumerate(L)),key=lambda x:x[1],reverse=True)[0][0]\n",
    "\n",
    "    print(response['scored_labels'][index]['label'])\n",
    "    self.__second_menu()\n",
    "\n",
    "\n",
    "obj = NLPApp()"
   ]
  },
  {
   "cell_type": "code",
   "execution_count": null,
   "metadata": {},
   "outputs": [],
   "source": []
  }
 ],
 "metadata": {
  "kernelspec": {
   "display_name": "Python 3.10.4 64-bit",
   "language": "python",
   "name": "python3"
  },
  "language_info": {
   "codemirror_mode": {
    "name": "ipython",
    "version": 3
   },
   "file_extension": ".py",
   "mimetype": "text/x-python",
   "name": "python",
   "nbconvert_exporter": "python",
   "pygments_lexer": "ipython3",
   "version": "3.10.4"
  },
  "orig_nbformat": 4,
  "vscode": {
   "interpreter": {
    "hash": "88ae099763d2fc933b271cffe6c993ba48a5564d44627aa3a873154926716d9e"
   }
  }
 },
 "nbformat": 4,
 "nbformat_minor": 2
}
